{
 "cells": [
  {
   "cell_type": "code",
   "execution_count": 1,
   "metadata": {},
   "outputs": [],
   "source": [
    "import pandas as pd\n",
    "import numpy as np\n",
    "import matplotlib.pyplot as plt\n",
    "import sagemaker\n",
    "import boto3\n",
    "import json\n",
    "import math\n",
    "import os\n",
    "import sys"
   ]
  },
  {
   "cell_type": "code",
   "execution_count": 2,
   "metadata": {},
   "outputs": [],
   "source": [
    "\"\"\"\n",
    "Set up AWS resources.\n",
    "\"\"\"\n",
    "bucket = 'cic-network-data'\n",
    "file_path = 'base_df.csv'\n",
    "role = sagemaker.get_execution_role()\n",
    "s3 = boto3.resource('s3')\n",
    "s3.Bucket(bucket).download_file(file_path, 'raw_data.csv')"
   ]
  },
  {
   "cell_type": "code",
   "execution_count": 3,
   "metadata": {},
   "outputs": [],
   "source": [
    "def load_file(file):\n",
    "    df = pd.read_csv(file)\n",
    "    return df"
   ]
  },
  {
   "cell_type": "code",
   "execution_count": null,
   "metadata": {},
   "outputs": [],
   "source": [
    "loaded_df = load_file('./raw_data.csv')"
   ]
  },
  {
   "cell_type": "code",
   "execution_count": null,
   "metadata": {},
   "outputs": [],
   "source": [
    "def clean_df(df):\n",
    "    df.fillna(0, inplace=True)\n",
    "    df = df[df.Protocol != 'Protocol'].copy()\n",
    "    numeric_list = list(df.columns.values)\n",
    "    numeric_list.remove('Label')\n",
    "    numeric_list.remove('Timestamp')\n",
    "    for col in numeric_list:\n",
    "        df[col] = pd.to_numeric(df[col].copy(), errors='coerce')\n",
    "    df['Dst Port'] = pd.to_numeric(df['Dst Port'].copy(), errors='coerce')\n",
    "    no_bias = ['Fwd Pkts/b Avg', 'Fwd Blk Rate Avg', 'Bwd URG Flags', 'Bwd PSH Flags', \\\n",
    "              'Bwd Blk Rate Avg', 'Bwd Byts/b Avg', 'Bwd Pkts/b Avg', 'Fwd Byts/b Avg']\n",
    "    df.drop(df[no_bias], axis=1, inplace=True)\n",
    "    df['Label'] = df['Label'].copy().apply(lambda y: 0 if y == 'Benign' else 1)\n",
    "    df['Timestamp'] = pd.to_datetime(df['Timestamp'].copy(), dayfirst=True, errors='coerce')\n",
    "    df['Hour'] = df['Timestamp'].copy().dt.hour\n",
    "    df['Minute'] = df['Timestamp'].copy().dt.minute\n",
    "    df['Second'] = df['Timestamp'].copy().dt.second\n",
    "    df['Day'] = df['Timestamp'].copy().dt.day\n",
    "    df['Month'] = df['Timestamp'].copy().dt.month\n",
    "    df['Year'] = df['Timestamp'].copy().dt.year\n",
    "    df.drop('Timestamp', axis=1, inplace=True)\n",
    "    cols = list(df.columns)\n",
    "    reorder_df = [cols[-7]] + cols[:-7] + cols[-6:]\n",
    "    abt = df[reorder_df]\n",
    "    abt.to_csv('abt.csv', index=False)\n",
    "    s3.Bucket(bucket).upload_file('abt.csv', 'abt.csv')\n",
    "    return df"
   ]
  },
  {
   "cell_type": "code",
   "execution_count": null,
   "metadata": {},
   "outputs": [],
   "source": [
    "cleaned_df = clean_df(loaded_df)"
   ]
  },
  {
   "cell_type": "code",
   "execution_count": null,
   "metadata": {},
   "outputs": [],
   "source": [
    "s3.Bucket(bucket).upload_file('abt.csv', 'abt.csv')"
   ]
  },
  {
   "cell_type": "code",
   "execution_count": null,
   "metadata": {},
   "outputs": [],
   "source": []
  },
  {
   "cell_type": "code",
   "execution_count": null,
   "metadata": {},
   "outputs": [],
   "source": []
  },
  {
   "cell_type": "code",
   "execution_count": null,
   "metadata": {},
   "outputs": [],
   "source": []
  }
 ],
 "metadata": {
  "kernelspec": {
   "display_name": "conda_python3",
   "language": "python",
   "name": "conda_python3"
  },
  "language_info": {
   "codemirror_mode": {
    "name": "ipython",
    "version": 3
   },
   "file_extension": ".py",
   "mimetype": "text/x-python",
   "name": "python",
   "nbconvert_exporter": "python",
   "pygments_lexer": "ipython3",
   "version": "3.6.5"
  }
 },
 "nbformat": 4,
 "nbformat_minor": 2
}
